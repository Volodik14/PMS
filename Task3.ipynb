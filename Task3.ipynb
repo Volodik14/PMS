{
 "cells": [
  {
   "cell_type": "code",
   "execution_count": 21,
   "id": "sublime-reverse",
   "metadata": {},
   "outputs": [
    {
     "name": "stdout",
     "output_type": "stream",
     "text": [
      "30\n",
      "[ 1 -1  1 -2 -1  2  1 -3  2  0 -3  1 -1  3 -1 -2  1  0  2 -2 -1 -2  0  2\n",
      "  0 -1  0  1  5 -1]\n",
      "[ 1  3  4  7 10 12 14 15 19 20 21 25 29] 13\n",
      "[ 0  2  5  6  8 11 13 16 18 23 27 28] 12\n",
      "-21\n",
      "22\n",
      "0.2\n",
      "[4, 3, 7, 5, 4, 1, 4, 3, 1, 4, 7, 4, 2, 5, 6, 4, 3, 4, 4, 1]\n",
      "[5, 1, 7, 7, 5, 5, 5, 6, 5, 6]\n",
      "255.5\n",
      "209.5\n",
      "209.5\n",
      "20\n",
      "10\n",
      "1.6448536269514722\n",
      "117\n",
      "193\n"
     ]
    }
   ],
   "source": [
    "import numpy as np\n",
    "\n",
    "sex1 = [0, 1, 0, 0, 0, 1, 0, 1, 0, 0, 1, 0, 1, 0, 0, 0, 0, 1, 0, 0, 1, 0, 0, 0, 1, 1, 0, 0, 0, 1]\n",
    "a1 = [4, 5, 3, 7, 5, 1, 4, 7, 1, 4, 7, 3, 5, 1, 4, 7, 4, 5, 2, 5, 5, 6, 4, 3, 6, 5, 4, 4, 1, 6]\n",
    "b1 = [5, 4, 4, 5, 4, 3, 5, 4, 3, 4, 4, 4, 4, 4, 3, 5, 5, 5, 4, 3, 4, 4, 4, 5, 6, 4, 4, 5, 6, 5]\n",
    "\n",
    "sex = np.array([0, 1, 0, 0, 0, 1, 0, 1, 0, 0, 1, 0, 1, 0, 0, 0, 0, 1, 0, 0, 1, 0, 0, 0, 1, 1, 0, 0, 0, 1])\n",
    "a = np.array([4, 5, 3, 7, 5, 1, 4, 7, 1, 4, 7, 3, 5, 1, 4, 7, 4, 5, 2, 5, 5, 6, 4, 3, 6, 5, 4, 4, 1, 6])\n",
    "b = np.array([5, 4, 4, 5, 4, 3, 5, 4, 3, 4, 4, 4, 4, 4, 3, 5, 5, 5, 4, 3, 4, 4, 4, 5, 6, 4, 4, 5, 6, 5])\n",
    "n = len(sex)\n",
    "print(n) \n",
    "diff = b - a\n",
    "\n",
    "print(diff)\n",
    "\n",
    "prefA = np.where(diff < 0, diff, 0)\n",
    "prefB = np.where(diff > 0, diff, 0)\n",
    "\n",
    "prefAPos = np.nonzero(prefA)[0]\n",
    "prefBPos = np.nonzero(prefB)[0]\n",
    "print(prefAPos, len(prefAPos))\n",
    "print(prefBPos, len(prefBPos))\n",
    "print(np.sum(prefA))\n",
    "print(np.sum(prefB))\n",
    "\n",
    "n = len(prefAPos)+len(prefBPos)\n",
    "Z = (2*len(prefAPos) - n)/n**.5\n",
    "print(Z)\n",
    "     \n",
    "arr = list(zip(a, b, sex))\n",
    "\n",
    "from scipy.stats import rankdata\n",
    "from scipy.stats import norm\n",
    "sex0 = [el[0] for el in arr if el[2] == 0]\n",
    "sex1 = [el[0] for el in arr if el[2] == 1]\n",
    "print(sex0)\n",
    "print(sex1)\n",
    "\n",
    "data = np.array(sorted((el[0], el[2], 0.) for el in arr))\n",
    "data[:,2] = rankdata(data[:,0])\n",
    "\n",
    "ranksum0 = sum(data[data[:,1] == 0, 2])\n",
    "ranksum1 = sum(data[data[:,1] == 1, 2])\n",
    "print(ranksum0)\n",
    "print(ranksum1)\n",
    "W = ranksum0 if len(sex0) < len(sex1) else ranksum1\n",
    "print(W)\n",
    "\n",
    "m = min(len(sex0), len(sex1))\n",
    "n = max(len(sex0), len(sex1))\n",
    "print(n)\n",
    "print(m)\n",
    "print(norm.ppf(0.95))\n",
    "wleft = int((m*(m+n+1)-1)/2 - norm.ppf(0.95)*(m*n*(m+n+1)/12)**.5)\n",
    "print(wleft)\n",
    "print(m*(m+n+1) - wleft)\n"
   ]
  },
  {
   "cell_type": "code",
   "execution_count": null,
   "id": "grand-armor",
   "metadata": {},
   "outputs": [],
   "source": []
  },
  {
   "cell_type": "code",
   "execution_count": null,
   "id": "younger-building",
   "metadata": {},
   "outputs": [],
   "source": []
  },
  {
   "cell_type": "code",
   "execution_count": null,
   "id": "white-bearing",
   "metadata": {},
   "outputs": [],
   "source": []
  },
  {
   "cell_type": "code",
   "execution_count": null,
   "id": "precious-prior",
   "metadata": {},
   "outputs": [],
   "source": []
  },
  {
   "cell_type": "code",
   "execution_count": null,
   "id": "close-scope",
   "metadata": {},
   "outputs": [],
   "source": []
  }
 ],
 "metadata": {
  "kernelspec": {
   "display_name": "Python 3",
   "language": "python",
   "name": "python3"
  },
  "language_info": {
   "codemirror_mode": {
    "name": "ipython",
    "version": 3
   },
   "file_extension": ".py",
   "mimetype": "text/x-python",
   "name": "python",
   "nbconvert_exporter": "python",
   "pygments_lexer": "ipython3",
   "version": "3.9.1"
  }
 },
 "nbformat": 4,
 "nbformat_minor": 5
}
