{
 "cells": [
  {
   "cell_type": "code",
   "execution_count": 313,
   "id": "prescribed-affiliation",
   "metadata": {
    "scrolled": false
   },
   "outputs": [
    {
     "name": "stdout",
     "output_type": "stream",
     "text": [
      "[24, 22, 25, 41, 19, 94, 24, 17, 20, 16, 23, 25, 15, 22, 21, 16, 24, 56, 9, 20, 22, 24]\n",
      "[-4.161177660941636, 2.105689528003847, 6.297381101095979, 9.60095726945108, 12.410513752695978, 14.909991072401812, 17.202264789427982, 19.35224982408833, 21.40492528593665, 23.39412133808716, 25.347375841862053, 27.28898415813795, 29.24223866191284, 31.231434714063358, 33.28411017591167, 35.434095210572025, 37.72636892759819, 40.22584624730403, 43.035402730548924, 46.33897889890401, 50.530670471996146, 56.79753766094164]\n"
     ]
    },
    {
     "data": {
      "text/plain": [
       "Text(0, 0.5, 'Выборочные квантили')"
      ]
     },
     "execution_count": 313,
     "metadata": {},
     "output_type": "execute_result"
    },
    {
     "data": {
      "image/png": "[encoded data removed]",
      "text/plain": [
       "<Figure size 432x288 with 1 Axes>"
      ]
     },
     "metadata": {
      "needs_background": "light"
     },
     "output_type": "display_data"
    }
   ],
   "source": [
    "import numpy as np\n",
    "import math\n",
    "import scipy\n",
    "import matplotlib.pyplot as plt\n",
    "\n",
    "data = [24, 22, 25, 41, 19, 94, 24, 17, 20, 16, 23, 25, 15, 22, 21, 16, 24, 56, 9, 20, 22, 24]\n",
    "\n",
    "mylist = [i / (22 + 1) for i in range(1, 23)]\n",
    "\n",
    "data_quantiles = np.quantile(data, mylist)\n",
    "theor_quantiles = [(26.31818 + 17.8067403 * (scipy.stats.norm.ppf(i))) for i in mylist]\n",
    "lx = np.arange(-5, 70, 1)\n",
    "plt.scatter(x=theor_quantiles, y=data_quantiles, c = 'blue')\n",
    "print(data)\n",
    "print(theor_quantiles)\n",
    "plt.plot(lx, lx, c = 'red')\n",
    "plt.xlabel(\"Теоретические квантили\")\n",
    "plt.ylabel(\"Выборочные квантили\")"
   ]
  },
  {
   "cell_type": "code",
   "execution_count": 305,
   "id": "convinced-flexibility",
   "metadata": {},
   "outputs": [
    {
     "name": "stdout",
     "output_type": "stream",
     "text": [
      "99\n",
      "99\n",
      "[10.26 11.52 12.78 14.04 15.05 15.26 15.47 15.68 15.89 16.   16.   16.\n",
      " 16.   16.   16.15 16.36 16.57 16.78 16.99 17.4  17.82 18.24 18.66 19.04\n",
      " 19.25 19.46 19.67 19.88 20.   20.   20.   20.   20.   20.14 20.35 20.56\n",
      " 20.77 20.98 21.19 21.4  21.61 21.82 22.   22.   22.   22.   22.   22.\n",
      " 22.   22.   22.   22.   22.13 22.34 22.55 22.76 22.97 23.18 23.39 23.6\n",
      " 23.81 24.   24.   24.   24.   24.   24.   24.   24.   24.   24.   24.\n",
      " 24.   24.   24.   24.   24.17 24.38 24.59 24.8  25.   25.   25.   25.\n",
      " 25.   25.96 29.32 32.68 36.04 39.4  42.65 45.8  48.95 52.1  55.25 62.08\n",
      " 70.06 78.04 86.02]\n",
      "[26.85097000012637, 26.85098698541822, 26.851015290982783, 26.851054911937275, 26.85110584144576, 26.851168070719158, 26.8512415890152, 26.85132638363842, 26.851422439940134, 26.85152974131845, 26.851648269218266, 26.85177800313129, 26.85191892059613, 26.85207099719835, 26.85223420657064, 26.852408520392967, 26.852593908392844, 26.852790338345635, 26.852997776074943, 26.853216185453093, 26.853445528401732, 26.853685764892496, 26.853936852947868, 26.854198748642116, 26.854471406102416, 26.854754777510134, 26.8550488131023, 26.85535346117325, 26.855668668076515, 26.855994378226907, 26.856330534102877, 26.856677076249124, 26.85703394327947, 26.85740107188004, 26.85777839681278, 26.858165850919256, 26.85856336512486, 26.85897086844333, 26.859388287981716, 26.859815548945708, 26.860252574645408, 26.860699286501553, 26.861155604052193, 26.861621444959862, 26.86209672501926, 26.862581358165432, 26.86307525648253, 26.863578330213116, 26.86409048776805, 26.864611635736978, 26.86514167889947, 26.865680520236747, 26.866228060944124, 26.866784200444098, 26.867348836400136, 26.86792186473119, 26.868503179626934, 26.869092673563745, 26.869690237321475, 26.87029576000098, 26.870909129042445, 26.871530230244538, 26.872158947784392, 26.872795164238397, 26.873438760603882, 26.874089616321644, 26.87474760929935, 26.87541261593584, 26.87608451114631, 26.876763168388415, 26.87744845968929, 26.878140255673458, 26.878838425591713, 26.879542837350893, 26.880253357544614, 26.88096985148492, 26.881692183234904, 26.882420215642224, 26.883153810373603, 26.883892827950227, 26.884637127784107, 26.885386568215342, 26.88614100655034, 26.886900299100905, 26.88766430122427, 26.88843286736403, 26.889205851091916, 26.889983105150492, 26.890764481496685, 26.891549831346154, 26.892339005218503, 26.89313185298329, 26.893928223906826, 26.894727966699744, 26.895530929565307, 26.896336960248444, 26.897145906085477, 26.897957614054512, 26.898771930826495]\n",
      "33.421686397598684\n"
     ]
    }
   ],
   "source": [
    "import numpy as np\n",
    "import math\n",
    "import statsmodels.api as sm\n",
    "import pylab as py\n",
    "import matplotlib.pyplot as plt\n",
    "from decimal import Decimal\n",
    "\n",
    "def gaus(x):\n",
    "    return (26.31818 + 17.8067403 * (np.exp(-x**2/2) / math.sqrt(2*math.pi)))\n",
    "\n",
    "\n",
    "data = [24, 22, 25, 41, 19, 94, 24, 17, 20, 16, 23, 25, 15, 22, 21, 16, 24, 56, 9, 20, 22, 24]\n",
    "\n",
    "mylist = [float(Decimal(i) / 100) for i in range(1, 100)]\n",
    "lx = np.arange(5, 40, 1)   \n",
    "data_quantiles = np.quantile(data, mylist)\n",
    "theor_quantiles = [float(26.31818 + 17.8067403 * gaus(i)**-1) for i in mylist]\n",
    "print(len(data_quantiles))\n",
    "print(len(theor_quantiles))\n",
    "print(data_quantiles)\n",
    "print(theor_quantiles)\n",
    "print(gaus(0.01))"
   ]
  },
  {
   "cell_type": "code",
   "execution_count": 300,
   "id": "cleared-nirvana",
   "metadata": {},
   "outputs": [
    {
     "ename": "NameError",
     "evalue": "name 'x' is not defined",
     "output_type": "error",
     "traceback": [
      "\u001b[1;31m---------------------------------------------------------------------------\u001b[0m",
      "\u001b[1;31mNameError\u001b[0m                                 Traceback (most recent call last)",
      "\u001b[1;32m<ipython-input-300-c9f7a742d3a3>\u001b[0m in \u001b[0;36m<module>\u001b[1;34m\u001b[0m\n\u001b[1;32m----> 1\u001b[1;33m \u001b[1;36m1.\u001b[0m\u001b[1;33m/\u001b[0m\u001b[1;33m(\u001b[0m\u001b[0mmath\u001b[0m\u001b[1;33m.\u001b[0m\u001b[0msqrt\u001b[0m\u001b[1;33m(\u001b[0m\u001b[1;36m2\u001b[0m\u001b[1;33m*\u001b[0m\u001b[0mmath\u001b[0m\u001b[1;33m.\u001b[0m\u001b[0mpi\u001b[0m\u001b[1;33m)\u001b[0m\u001b[1;33m)\u001b[0m\u001b[1;33m*\u001b[0m\u001b[0mnp\u001b[0m\u001b[1;33m.\u001b[0m\u001b[0mexp\u001b[0m\u001b[1;33m(\u001b[0m\u001b[0mnp\u001b[0m\u001b[1;33m.\u001b[0m\u001b[0mpower\u001b[0m\u001b[1;33m(\u001b[0m\u001b[0mx\u001b[0m\u001b[1;33m,\u001b[0m \u001b[1;36m2.\u001b[0m\u001b[1;33m)\u001b[0m\u001b[1;33m/\u001b[0m\u001b[1;36m2\u001b[0m\u001b[1;33m)\u001b[0m\u001b[1;33m\u001b[0m\u001b[1;33m\u001b[0m\u001b[0m\n\u001b[0m",
      "\u001b[1;31mNameError\u001b[0m: name 'x' is not defined"
     ]
    }
   ],
   "source": [
    "1./(math.sqrt(2*math.pi))*np.exp(np.power(x, 2.)/2)"
   ]
  },
  {
   "cell_type": "code",
   "execution_count": 326,
   "id": "buried-packing",
   "metadata": {},
   "outputs": [
    {
     "name": "stdout",
     "output_type": "stream",
     "text": [
      "26.054181818181817 3.6838887324698084\n",
      "20.772727272727273 32.59318181818182\n"
     ]
    },
    {
     "data": {
      "image/png": "[encoded data removed]",
      "text/plain": [
       "<Figure size 432x288 with 1 Axes>"
      ]
     },
     "metadata": {
      "needs_background": "light"
     },
     "output_type": "display_data"
    }
   ],
   "source": [
    "import numpy as np\n",
    "import matplotlib.pyplot as plt\n",
    "\n",
    "data = [24, 22, 25, 41, 19, 94, 24, 17, 20, 16, 23, 25, 15, 22, 21, 16, 24, 56, 9, 20, 22, 24]\n",
    "bootstrap = [np.mean(np.random.choice(data, 22)) for i in range(0, 1000)]\n",
    "\n",
    "\n",
    "n, bins, patches = plt.hist(x=bootstrap, bins='auto', color='#0504aa',\n",
    "                            alpha=0.7, rwidth=0.85)\n",
    "plt.grid(axis='y', alpha=0.75)\n",
    "plt.xlabel('Значение')\n",
    "plt.ylabel('Частота')\n",
    "plt.title('Гистограмма распределения среднего')\n",
    "maxfreq = n.max()\n",
    "\n",
    "plt.ylim(ymax=np.ceil(maxfreq / 10) * 10 if maxfreq % 10 else maxfreq + 10)\n",
    "m = np.mean(bootstrap)\n",
    "d = np.sqrt(np.var(bootstrap, ddof = 1))\n",
    "print(m, d)\n",
    "quant1 = np.quantile(bootstrap, 0.05)\n",
    "quant2 = np.quantile(bootstrap, 0.95)\n",
    "print(quant1, quant2)"
   ]
  },
  {
   "cell_type": "code",
   "execution_count": 317,
   "id": "coated-momentum",
   "metadata": {},
   "outputs": [
    {
     "data": {
      "text/plain": [
       "2.5191928011443525"
      ]
     },
     "execution_count": 317,
     "metadata": {},
     "output_type": "execute_result"
    }
   ],
   "source": [
    "(scipy.stats.norm.pdf(0.1))**(-1)"
   ]
  },
  {
   "cell_type": "code",
   "execution_count": null,
   "id": "minus-shift",
   "metadata": {},
   "outputs": [],
   "source": [
    "import numpy as np\n",
    "import math\n",
    "import scipy\n",
    "import statsmodels.api as sm\n",
    "import pylab as py\n",
    "import matplotlib.pyplot as plt\n",
    "\n",
    "def gaus(x):\n",
    "    return (26.31818 + 17.8067403 * np.exp(-x**2/2) / math.sqrt(2*math.pi))\n",
    "\n",
    "from decimal import Decimal\n",
    "data = [24, 22, 25, 41, 19, 94, 24, 17, 20, 16, 23, 25, 15, 22, 21, 16, 24, 56, 9, 20, 22, 24]\n",
    "\n",
    "print(np.var(data, ddof = 1))\n",
    "mylist = [float(Decimal(i) / 100) for i in range(1, 100)]\n",
    "print(data3)\n",
    "mylist = [0.1, 0.2, 0.3, 0.4, 0.5, 0.6, 0.7, 0.8, 0.9, 1]\n",
    "mylist = [i / (22 + 1) for i in range(1, 23)]\n",
    "print(mylist)\n",
    "data3 = [(data[i] - 26.31818) / 17.8067403 for i in range(0, 22)]\n",
    "data_quantiles = np.quantile(data, mylist)\n",
    "theor_quantiles = [(26.31818 + 17.8067403 * (scipy.stats.norm.ppf(i))) for i in mylist]\n",
    "lx = np.arange(-5, 70, 1)\n",
    "plt.scatter(x=theor_quantiles, y=data_quantiles, c = 'blue')\n",
    "print(data_quantiles)\n",
    "print(theor_quantiles)\n",
    "plt.plot(lx, lx, c = 'red')\n",
    "plt.xlabel(\"Выборочные квантили\")\n",
    "plt.ylabel(\"Теоретические квантили\")\n",
    "data1 = np.array(data_quantiles)\n",
    "data2 = np.array(theor_quantiles)\n",
    "sm.qqplot_2samples(data1, data2, line='45')\n",
    "pylab.show()"
   ]
  }
 ],
 "metadata": {
  "kernelspec": {
   "display_name": "Python 3",
   "language": "python",
   "name": "python3"
  },
  "language_info": {
   "codemirror_mode": {
    "name": "ipython",
    "version": 3
   },
   "file_extension": ".py",
   "mimetype": "text/x-python",
   "name": "python",
   "nbconvert_exporter": "python",
   "pygments_lexer": "ipython3",
   "version": "3.9.1"
  }
 },
 "nbformat": 4,
 "nbformat_minor": 5
}
