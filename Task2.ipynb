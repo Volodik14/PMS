{
 "cells": [
  {
   "cell_type": "code",
   "execution_count": 142,
   "id": "connected-interaction",
   "metadata": {},
   "outputs": [
    {
     "name": "stdout",
     "output_type": "stream",
     "text": [
      "[0.2456, 0.753, 0.0892, 0.0798, 0.0176, 0.989, 0.7572, 0.5638, 0.7096, 0.185]\n"
     ]
    }
   ],
   "source": [
    "z = [2456]\n",
    "a = 113\n",
    "b = 2\n",
    "m = 10000\n",
    "for i in range(1, 100):\n",
    "    z.append((a * z[i-1] + b) % m)\n",
    "x = [z[i] / m for i in range (100)]\n",
    "first10 = [x[i] for i in range (10)]\n",
    "print(first10)\n"
   ]
  },
  {
   "cell_type": "code",
   "execution_count": 143,
   "id": "waiting-permission",
   "metadata": {},
   "outputs": [
    {
     "data": {
      "text/plain": [
       "(0.0, 20.0)"
      ]
     },
     "execution_count": 143,
     "metadata": {},
     "output_type": "execute_result"
    },
    {
     "data": {
      "image/png": "[encoded data removed]",
      "text/plain": [
       "<Figure size 432x288 with 1 Axes>"
      ]
     },
     "metadata": {
      "needs_background": "light"
     },
     "output_type": "display_data"
    }
   ],
   "source": [
    "import numpy as np\n",
    "import matplotlib.pyplot as plt\n",
    "\n",
    "\n",
    "\n",
    "n, bins, patches = plt.hist(x=x, bins=[0.0, 0.1, 0.2, 0.3, 0.4, 0.5, 0.6, 0.7, 0.8, 0.9, 1], color='#0504aa',\n",
    "                            alpha=0.7, rwidth=0.85)\n",
    "plt.grid(axis='y', alpha=0.75)\n",
    "plt.xlabel('Значение')\n",
    "plt.ylabel('Частота')\n",
    "plt.title('Гистограмма')\n",
    "maxfreq = n.max()\n",
    "\n",
    "plt.ylim(ymax=np.ceil(maxfreq / 10) * 10 if maxfreq % 10 else maxfreq + 10)"
   ]
  },
  {
   "cell_type": "code",
   "execution_count": 144,
   "id": "banner-junior",
   "metadata": {},
   "outputs": [
    {
     "name": "stdout",
     "output_type": "stream",
     "text": [
      "[ 9  6  7 15  6 12 13 12  9 11]\n",
      "[10.0, 10.0, 10.0, 10.0, 10.0, 10.0, 10.0, 10.0, 10.0, 10.0]\n",
      "8.6\n",
      "16.918977604620448\n"
     ]
    }
   ],
   "source": [
    "from scipy.stats import chi2\n",
    "def CheckHypotesis(data):\n",
    "    n = len(data)\n",
    "    k = 10\n",
    "    alpha = .05\n",
    "    observedValues,_ = np.histogram(data, bins = k, range = (0, 1))\n",
    "    expectedValues = [n / k] * k\n",
    "    chi2_val = sum((observedValues - expectedValues)**2 / expectedValues)\n",
    "    print(observedValues)\n",
    "    print(expectedValues)\n",
    "    print(chi2_val)\n",
    "    print(chi2.ppf(1 - alpha, k - 1))\n",
    "\n",
    "CheckHypotesis(x)"
   ]
  },
  {
   "cell_type": "code",
   "execution_count": 145,
   "id": "infrared-recognition",
   "metadata": {},
   "outputs": [
    {
     "name": "stdout",
     "output_type": "stream",
     "text": [
      "[0.2456, 0.753, 0.0892, 0.0798, 0.0176, 0.989, 0.7572, 0.5638, 0.7096, 0.185]\n",
      "[1000 1000 1000 1000 1000 1000 1000 1000 1000 1000]\n",
      "[1000.0, 1000.0, 1000.0, 1000.0, 1000.0, 1000.0, 1000.0, 1000.0, 1000.0, 1000.0]\n",
      "0.0\n",
      "16.918977604620448\n"
     ]
    },
    {
     "data": {
      "image/png": "[encoded data removed]",
      "text/plain": [
       "<Figure size 432x288 with 1 Axes>"
      ]
     },
     "metadata": {
      "needs_background": "light"
     },
     "output_type": "display_data"
    }
   ],
   "source": [
    "z = [2456]\n",
    "for i in range(1, 10000):\n",
    "    z.append((a * z[i-1] + b) % m)\n",
    "x = [z[i] / m for i in range (10000)]\n",
    "first10 = [x[i] for i in range (10)]\n",
    "print(first10)\n",
    "n, bins, patches = plt.hist(x=x, bins=[0.0, 0.1, 0.2, 0.3, 0.4, 0.5, 0.6, 0.7, 0.8, 0.9, 1], color='#0504aa',\n",
    "                            alpha=0.7, rwidth=0.85)\n",
    "plt.grid(axis='y', alpha=0.75)\n",
    "plt.xlabel('Значение')\n",
    "plt.ylabel('Частота')\n",
    "plt.title('Гистограмма')\n",
    "maxfreq = n.max()\n",
    "\n",
    "plt.ylim(ymax=np.ceil(maxfreq / 10) * 10 if maxfreq % 10 else maxfreq + 10)\n",
    "\n",
    "CheckHypotesis(x)"
   ]
  },
  {
   "cell_type": "code",
   "execution_count": 146,
   "id": "fancy-feeling",
   "metadata": {},
   "outputs": [
    {
     "name": "stdout",
     "output_type": "stream",
     "text": [
      "3333\n",
      "[570, 564, 533, 548, 549, 569]\n",
      "[555.5, 555.5, 555.5, 555.5, 555.5, 555.5]\n",
      "1.925292529252925\n",
      "11.070497693516351\n"
     ]
    }
   ],
   "source": [
    "triples = []\n",
    "triples = [[0] * 3 for i in range(3333)]\n",
    "for i in range(0, 9999):\n",
    "    triples[i // 3][i % 3] = x[i]\n",
    "possibleArrays = [[1, 2, 3], [1, 3, 2], [2, 1, 3], [2, 3, 1], [3, 1, 2], [3, 2, 1]]\n",
    "def CheckPosition(arr, nums, possibleArrays):\n",
    "    maxValue = max(nums)\n",
    "    minValue = min(nums)\n",
    "    for i in range(3):\n",
    "        if (nums[i] == maxValue): \n",
    "            nums[i] = 3\n",
    "        elif (nums[i] == minValue):\n",
    "            nums[i] = 1\n",
    "        else: \n",
    "            nums[i] = 2\n",
    "    for i in range(6):\n",
    "        if (nums == possibleArrays[i]):\n",
    "            arr[i] += 1\n",
    "\n",
    "\n",
    "def CheckHypotesis2(data):\n",
    "    n = 3333\n",
    "    k = 6\n",
    "    alpha = .05\n",
    "    observedValues = [0, 0, 0, 0, 0, 0]\n",
    "    for i in range(3333):\n",
    "        CheckPosition(observedValues, data[i], possibleArrays)\n",
    "    # Проверка на повторы, если сумма равна 3333, то всё нормально. Если нет, то есть равные значения в тройках.\n",
    "    print(sum(observedValues))\n",
    "    expectedValues = [n / k] * k\n",
    "    print(observedValues)\n",
    "    print(expectedValues)\n",
    "    chi2_val = sum((np.array(observedValues) - np.array(expectedValues))**2 / expectedValues)\n",
    "    print(chi2_val)\n",
    "    print(chi2.ppf(1 - alpha, k - 1))\n",
    "\n",
    "CheckHypotesis2(triples)"
   ]
  },
  {
   "cell_type": "code",
   "execution_count": null,
   "id": "czech-breeding",
   "metadata": {},
   "outputs": [],
   "source": []
  },
  {
   "cell_type": "code",
   "execution_count": null,
   "id": "limiting-measure",
   "metadata": {},
   "outputs": [],
   "source": []
  }
 ],
 "metadata": {
  "kernelspec": {
   "display_name": "Python 3",
   "language": "python",
   "name": "python3"
  },
  "language_info": {
   "codemirror_mode": {
    "name": "ipython",
    "version": 3
   },
   "file_extension": ".py",
   "mimetype": "text/x-python",
   "name": "python",
   "nbconvert_exporter": "python",
   "pygments_lexer": "ipython3",
   "version": "3.9.1"
  }
 },
 "nbformat": 4,
 "nbformat_minor": 5
}
